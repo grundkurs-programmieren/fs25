{
 "cells": [
  {
   "cell_type": "markdown",
   "id": "45d74e25",
   "metadata": {},
   "source": [
    "\n",
    "  <img src=\"https://i.imgur.com/XSzy00d.png\" style=\"float:right;width:150px\">\n",
    "  \n",
    "  **Inhaltsverzeichnis**\n",
    "  "
   ]
  },
  {
   "cell_type": "markdown",
   "id": "bf055b60",
   "metadata": {},
   "source": [
    "- [Einfuehrung](02_21_25/Einfuehrung.ipynb)\n",
    "  - [Einleitung](02_21_25/Einfuehrung.ipynb#Einleitung)\n",
    "  - [Wie funktioniert Programmieren?](02_21_25/Einfuehrung.ipynb#Wie-funktioniert-Programmieren?)\n",
    "  - [Das PRIMM Modell](02_21_25/Einfuehrung.ipynb#Das-PRIMM-Modell)\n",
    "  - [JupyterLab](02_21_25/Einfuehrung.ipynb#JupyterLab)\n",
    "  - [Überblick über die Tools](02_21_25/Einfuehrung.ipynb#Überblick-über-die-Tools)\n",
    "  - [Vorschau](02_21_25/Einfuehrung.ipynb#Vorschau)\n",
    "  - [Zusammenfassung](02_21_25/Einfuehrung.ipynb#Zusammenfassung)\n",
    "  - [Impressum](02_21_25/Einfuehrung.ipynb#Impressum)\n"
   ]
  },
  {
   "cell_type": "markdown",
   "id": "e95413f4",
   "metadata": {},
   "source": [
    "- [Strings und Variablen](02_28_25/Strings_Variablen.ipynb)\n",
    "  - [Einleitung](02_28_25/Strings_Variablen.ipynb#Einleitung)\n",
    "  - [Die `input()` Funktion](02_28_25/Strings_Variablen.ipynb#Die-`input()`-Funktion)\n",
    "  - [Strings](02_28_25/Strings_Variablen.ipynb#Strings)\n",
    "  - [Variablen](02_28_25/Strings_Variablen.ipynb#Variablen)\n",
    "  - [Die `print` Funktion](02_28_25/Strings_Variablen.ipynb#Die-`print`-Funktion)\n",
    "  - [Schlussaufgabe](02_28_25/Strings_Variablen.ipynb#Schlussaufgabe)\n",
    "  - [Zusammenfassung](02_28_25/Strings_Variablen.ipynb#Zusammenfassung)\n",
    "  - [Impressum](02_28_25/Strings_Variablen.ipynb#Impressum)\n"
   ]
  },
  {
   "cell_type": "markdown",
   "id": "73bfdfc9",
   "metadata": {},
   "source": [
    "- [Zeichenketten und Iteration](03_07_25/Zeichenketten_Iteration.ipynb)\n",
    "  - [Einleitung](03_07_25/Zeichenketten_Iteration.ipynb#Einleitung)\n",
    "  - [Zeichenketten](03_07_25/Zeichenketten_Iteration.ipynb#Zeichenketten)\n",
    "  - [Integer](03_07_25/Zeichenketten_Iteration.ipynb#Integer)\n",
    "  - [Eine `\"1\"` ist keine `1`](03_07_25/Zeichenketten_Iteration.ipynb#Eine-`\"1\"`-ist-keine-`1`)\n",
    "  - [Typumwandlung](03_07_25/Zeichenketten_Iteration.ipynb#Typumwandlung)\n",
    "  - [Iteration](03_07_25/Zeichenketten_Iteration.ipynb#Iteration)\n",
    "  - [Schlussaufgabe](03_07_25/Zeichenketten_Iteration.ipynb#Schlussaufgabe)\n",
    "  - [Zusammenfassung](03_07_25/Zeichenketten_Iteration.ipynb#Zusammenfassung)\n",
    "  - [Impressum](03_07_25/Zeichenketten_Iteration.ipynb#Impressum)\n"
   ]
  },
  {
   "cell_type": "markdown",
   "id": "b77fc3a7",
   "metadata": {},
   "source": [
    "- [Keywords und Funktionen](03_14_25/Keywords_Funktionen.ipynb)\n",
    "  - [Einleitung](03_14_25/Keywords_Funktionen.ipynb#Einleitung)\n",
    "  - [Keywords](03_14_25/Keywords_Funktionen.ipynb#Keywords)\n",
    "  - [Funktionen](03_14_25/Keywords_Funktionen.ipynb#Funktionen)\n",
    "  - [Scope](03_14_25/Keywords_Funktionen.ipynb#Scope)\n",
    "  - [Schlussaufgabe](03_14_25/Keywords_Funktionen.ipynb#Schlussaufgabe)\n",
    "  - [Zusammenfassung](03_14_25/Keywords_Funktionen.ipynb#Zusammenfassung)\n",
    "  - [Impressum](03_14_25/Keywords_Funktionen.ipynb#Impressum)\n"
   ]
  },
  {
   "cell_type": "markdown",
   "id": "98f3f7cf",
   "metadata": {},
   "source": [
    "- [Listen und Methoden](03_21_25/Listen_Methoden.ipynb)\n",
    "  - [Einleitung](03_21_25/Listen_Methoden.ipynb#Einleitung)\n",
    "  - [Listen](03_21_25/Listen_Methoden.ipynb#Listen)\n",
    "  - [Debugger und Breakpoints](03_21_25/Listen_Methoden.ipynb#Debugger-und-Breakpoints)\n",
    "  - [Methoden](03_21_25/Listen_Methoden.ipynb#Methoden)\n",
    "  - [Computational Thinking](03_21_25/Listen_Methoden.ipynb#Computational-Thinking)\n",
    "  - [Schlussaufgabe](03_21_25/Listen_Methoden.ipynb#Schlussaufgabe)\n",
    "  - [Zusammenfassung](03_21_25/Listen_Methoden.ipynb#Zusammenfassung)\n",
    "  - [Impressum](03_21_25/Listen_Methoden.ipynb#Impressum)\n"
   ]
  },
  {
   "cell_type": "markdown",
   "id": "625d8d5b",
   "metadata": {},
   "source": [
    "- [If und else](03_28_25/If_else.ipynb)\n",
    "  - [Einleitung](03_28_25/If_else.ipynb#Einleitung)\n",
    "  - [Bedingungen](03_28_25/If_else.ipynb#Bedingungen)\n",
    "  - [Verschachtelte Bedingungen](03_28_25/If_else.ipynb#Verschachtelte-Bedingungen)\n",
    "  - [List Comprehensions](03_28_25/If_else.ipynb#List-Comprehensions)\n",
    "  - [Schlussaufgabe](03_28_25/If_else.ipynb#Schlussaufgabe)\n",
    "  - [Zusammenfassung](03_28_25/If_else.ipynb#Zusammenfassung)\n",
    "  - [Impressum](03_28_25/If_else.ipynb#Impressum)\n"
   ]
  },
  {
   "cell_type": "markdown",
   "id": "9c987f8f",
   "metadata": {},
   "source": [
    "- [While und Logische-Operatoren](04_04_25/While_Logische-Operatoren.ipynb)\n",
    "  - [Einleitung](04_04_25/While_Logische-Operatoren.ipynb#Einleitung)\n",
    "  - [While Loop](04_04_25/While_Logische-Operatoren.ipynb#While-Loop)\n",
    "  - [Logische Operatoren](04_04_25/While_Logische-Operatoren.ipynb#Logische-Operatoren)\n",
    "  - [Schlussaufgabe](04_04_25/While_Logische-Operatoren.ipynb#Schlussaufgabe)\n",
    "  - [Zusammenfassung](04_04_25/While_Logische-Operatoren.ipynb#Zusammenfassung)\n",
    "  - [Impressum](04_04_25/While_Logische-Operatoren.ipynb#Impressum)\n"
   ]
  },
  {
   "cell_type": "markdown",
   "id": "8a77e8b0",
   "metadata": {},
   "source": [
    "- [Dictionaries und Ressourcen](04_11_25/Dictionaries_Ressourcen.ipynb)\n",
    "  - [Einleitung](04_11_25/Dictionaries_Ressourcen.ipynb#Einleitung)\n",
    "  - [Dictionaries](04_11_25/Dictionaries_Ressourcen.ipynb#Dictionaries)\n",
    "  - [Arbeiten mit Dateien](04_11_25/Dictionaries_Ressourcen.ipynb#Arbeiten-mit-Dateien)\n",
    "  - [JSON](04_11_25/Dictionaries_Ressourcen.ipynb#JSON)\n",
    "  - [Schlussaufgabe](04_11_25/Dictionaries_Ressourcen.ipynb#Schlussaufgabe)\n",
    "  - [Zusatzaufgabe für Interessierte](04_11_25/Dictionaries_Ressourcen.ipynb#Zusatzaufgabe-für-Interessierte)\n",
    "  - [Zusammenfassung](04_11_25/Dictionaries_Ressourcen.ipynb#Zusammenfassung)\n",
    "  - [Impressum](04_11_25/Dictionaries_Ressourcen.ipynb#Impressum)\n"
   ]
  },
  {
   "cell_type": "markdown",
   "id": "2b0de0e3",
   "metadata": {},
   "source": [
    "- [Module, Objekte und Datum](05_02_25/Module_Objekte_Datum.ipynb)\n",
    "  - [Einleitung](05_02_25/Module_Objekte_Datum.ipynb#Einleitung)\n",
    "  - [Module](05_02_25/Module_Objekte_Datum.ipynb#Module)\n",
    "  - [Objekte](05_02_25/Module_Objekte_Datum.ipynb#Objekte)\n",
    "  - [Datum und Zeit](05_02_25/Module_Objekte_Datum.ipynb#Datum-und-Zeit)\n",
    "  - [Schlussaufgabe](05_02_25/Module_Objekte_Datum.ipynb#Schlussaufgabe)\n",
    "  - [Zusammenfassung](05_02_25/Module_Objekte_Datum.ipynb#Zusammenfassung)\n",
    "  - [Impressum](05_02_25/Module_Objekte_Datum.ipynb#Impressum)\n"
   ]
  },
  {
   "cell_type": "markdown",
   "id": "01c540db",
   "metadata": {},
   "source": [
    "- [NumPy und Pandas](05_09_25/NumPy_Pandas.ipynb)\n",
    "  - [Einleitung](05_09_25/NumPy_Pandas.ipynb#Einleitung)\n",
    "  - [NumPy](05_09_25/NumPy_Pandas.ipynb#NumPy)\n",
    "  - [Pandas](05_09_25/NumPy_Pandas.ipynb#Pandas)\n",
    "  - [Schlussaufgabe](05_09_25/NumPy_Pandas.ipynb#Schlussaufgabe)\n",
    "  - [Zusammenfassung](05_09_25/NumPy_Pandas.ipynb#Zusammenfassung)\n",
    "  - [Impressum](05_09_25/NumPy_Pandas.ipynb#Impressum)\n"
   ]
  },
  {
   "cell_type": "markdown",
   "id": "01cadb2f",
   "metadata": {},
   "source": [
    "- [Matplotlib und Widgets](05_16_25/Matplotlib_Widgets.ipynb)\n",
    "  - [Einleitung](05_16_25/Matplotlib_Widgets.ipynb#Einleitung)\n",
    "  - [Matplotlib](05_16_25/Matplotlib_Widgets.ipynb#Matplotlib)\n",
    "  - [Widgets](05_16_25/Matplotlib_Widgets.ipynb#Widgets)\n",
    "  - [Schlussaufgabe - Aufwändig aber lehrreich!](05_16_25/Matplotlib_Widgets.ipynb#Schlussaufgabe---Aufwändig-aber-lehrreich!)\n",
    "  - [Zusammenfassung](05_16_25/Matplotlib_Widgets.ipynb#Zusammenfassung)\n",
    "  - [Impressum](05_16_25/Matplotlib_Widgets.ipynb#Impressum)\n"
   ]
  },
  {
   "cell_type": "markdown",
   "id": "45bb675e",
   "metadata": {},
   "source": [
    "- [GIS](05_23_25/GIS.ipynb)\n",
    "  - [Einleitung](05_23_25/GIS.ipynb#Einleitung)\n",
    "  - [Georeferenzierte Daten](05_23_25/GIS.ipynb#Georeferenzierte-Daten)\n",
    "  - [GeoJSON](05_23_25/GIS.ipynb#GeoJSON)\n",
    "  - [Folium](05_23_25/GIS.ipynb#Folium)\n",
    "  - [GeoPandas](05_23_25/GIS.ipynb#GeoPandas)\n",
    "  - [Schlussaufgabe](05_23_25/GIS.ipynb#Schlussaufgabe)\n",
    "  - [Zusammenfassung](05_23_25/GIS.ipynb#Zusammenfassung)\n",
    "  - [Impressum](05_23_25/GIS.ipynb#Impressum)\n"
   ]
  }
 ],
 "metadata": {
  "kernelspec": {
   "display_name": "Python 3",
   "language": "python",
   "name": "python3"
  }
 },
 "nbformat": 4,
 "nbformat_minor": 5
}
